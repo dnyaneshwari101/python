{
 "cells": [
  {
   "cell_type": "code",
   "execution_count": 5,
   "id": "7ae3f5d2",
   "metadata": {},
   "outputs": [
    {
     "name": "stdout",
     "output_type": "stream",
     "text": [
      "India\n",
      "India\n"
     ]
    }
   ],
   "source": [
    "# creating Car class with some objects\n",
    "\n",
    "class Car :\n",
    "    country =\"India\" #class variable or property\n",
    "\n",
    "obj1 =Car()\n",
    "obj2=Car()\n",
    "\n",
    "print(obj1.country)\n",
    "print(obj2.country)  \n",
    "    "
   ]
  },
  {
   "cell_type": "code",
   "execution_count": 18,
   "id": "8bd67484",
   "metadata": {},
   "outputs": [
    {
     "name": "stdout",
     "output_type": "stream",
     "text": [
      "Maruti:800 Hello from India\n",
      "Tata Nano:X3 Hello from India\n",
      "BMW:XE Hello from India\n",
      "India\n"
     ]
    }
   ],
   "source": [
    "class Car :\n",
    "    country =\"India\" #class variable or property\n",
    "    \n",
    "    #constructor \n",
    "    def __init__(self,model):\n",
    "        self.model=model\n",
    "        \n",
    "        \n",
    "    def display_msg(self, name):\n",
    "        print(f\"{name}:{self.model} Hello from {Car.country}\")\n",
    "\n",
    "obj1 =Car(\"800\")\n",
    "obj2=Car(\"X3\")\n",
    "obj3=Car(\"XE\")\n",
    "\n",
    "obj1.display_msg(\"Maruti\")\n",
    "obj2.display_msg(\"Tata Nano\")\n",
    "obj3.display_msg(\"BMW\")\n",
    "\n",
    "# we can access class variables directly by name of teh class\n",
    "print(Car.country)"
   ]
  },
  {
   "cell_type": "code",
   "execution_count": 20,
   "id": "42ea9bf2",
   "metadata": {},
   "outputs": [
    {
     "name": "stdout",
     "output_type": "stream",
     "text": [
      "30\n"
     ]
    }
   ],
   "source": [
    "# gate DA question\n",
    "\n",
    "class MyClass:\n",
    "    def __init__(self,n):\n",
    "        self.n=n\n",
    "        \n",
    "    def fun(self):\n",
    "        if self.n==0:\n",
    "            return 1\n",
    "        else:\n",
    "            return self.n*MyClass(self.n-1).fun()\n",
    "        \n",
    "foo1=MyClass(3) # returns factorial of 3 : 3*2*1 = 6\n",
    "foo2 = MyClass(4)# returns factorial of 4 : 4*3*2*1 = 24\n",
    "print(foo1.fun()+foo2.fun()) # 24+6=30"
   ]
  },
  {
   "cell_type": "code",
   "execution_count": null,
   "id": "94eb0be3",
   "metadata": {},
   "outputs": [],
   "source": []
  }
 ],
 "metadata": {
  "kernelspec": {
   "display_name": "Python 3 (ipykernel)",
   "language": "python",
   "name": "python3"
  },
  "language_info": {
   "codemirror_mode": {
    "name": "ipython",
    "version": 3
   },
   "file_extension": ".py",
   "mimetype": "text/x-python",
   "name": "python",
   "nbconvert_exporter": "python",
   "pygments_lexer": "ipython3",
   "version": "3.11.5"
  }
 },
 "nbformat": 4,
 "nbformat_minor": 5
}
